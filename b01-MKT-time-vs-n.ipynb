{
 "cells": [
  {
   "cell_type": "code",
   "execution_count": 1,
   "id": "b9e0952b-330d-4eed-900d-95a5b86b0019",
   "metadata": {},
   "outputs": [],
   "source": [
    "import numpy as np\n",
    "import pandas as pd\n",
    "import pymannkendall as mkt\n",
    "import timeit"
   ]
  },
  {
   "cell_type": "markdown",
   "id": "7404f0c2-3aeb-4afb-8875-b569a468071f",
   "metadata": {},
   "source": [
    "# Timeit\n",
    "\n",
    "https://docs.python.org/3/library/timeit.html#timeit.Timer\n",
    "\n",
    "- time to run a statement (for a `number` times) is measured as **sec** unit\n"
   ]
  },
  {
   "cell_type": "code",
   "execution_count": 2,
   "id": "5ff7e5a1-6377-446c-8e7b-fd97d472af58",
   "metadata": {},
   "outputs": [
    {
     "data": {
      "text/plain": [
       "Mann_Kendall_Test(trend='increasing', h=True, p=0.0, z=14.73869998208331, Tau=1.0, s=4950.0, var_s=112750.0, slope=1.0, intercept=1.0)"
      ]
     },
     "execution_count": 2,
     "metadata": {},
     "output_type": "execute_result"
    }
   ],
   "source": [
    "n = 100\n",
    "\n",
    "a = np.arange(1, n+1)\n",
    "mkt.original_test(a)"
   ]
  },
  {
   "cell_type": "code",
   "execution_count": 3,
   "id": "fc901241-84cd-48b4-8bc5-864a6227fffb",
   "metadata": {},
   "outputs": [
    {
     "name": "stdout",
     "output_type": "stream",
     "text": [
      "1.050 ms, for 100 observations MKT\n"
     ]
    }
   ],
   "source": [
    "setup_code = \"\"\"\n",
    "from __main__ import a\n",
    "import pymannkendall as mkt\n",
    "\"\"\"\n",
    "\n",
    "test_code = \"\"\"\n",
    "mkt.original_test(a)\n",
    "\"\"\"\n",
    "\n",
    "num_exe = 1000\n",
    "\n",
    "time = timeit.repeat(test_code, setup=setup_code, number=num_exe, repeat=3)\n",
    "time_per_execution = np.mean(np.array(time)/num_exe)\n",
    "\n",
    "print(f\"{(time_per_execution*1000):.3f} ms, for {n} observations MKT\")"
   ]
  },
  {
   "cell_type": "markdown",
   "id": "5b7cede1-b27c-4a33-af59-af6bf4f3f899",
   "metadata": {},
   "source": [
    "# Benchmarking MKT\n",
    "\n",
    "- let's measure the time to run it"
   ]
  },
  {
   "cell_type": "code",
   "execution_count": 4,
   "id": "45ba7014-0ac2-4a3d-a75b-871a073a4c28",
   "metadata": {},
   "outputs": [
    {
     "data": {
      "text/plain": [
       "array([    10,     20,     25,     40,     50,     75,     80,    100,\n",
       "          200,    250,    400,    500,    750,    800,   1000,   2000,\n",
       "         2500,   4000,   5000,   7500,   8000,  10000,  20000,  25000,\n",
       "        40000,  50000,  75000,  80000, 100000, 200000, 250000, 400000,\n",
       "       500000, 750000, 800000])"
      ]
     },
     "execution_count": 4,
     "metadata": {},
     "output_type": "execute_result"
    }
   ],
   "source": [
    "# generate observation sizes\n",
    "\n",
    "magnitude = 10**np.arange(1, 6)\n",
    "base = np.array([1, 2, 2.5, 4, 5, 7.5, 8])\n",
    "\n",
    "num_obs = np.product(np.meshgrid(base, magnitude), axis=0)\n",
    "num_obs = np.reshape(num_obs, np.product(num_obs.shape))\n",
    "num_obs = np.array(num_obs, dtype=np.int)\n",
    "num_obs"
   ]
  },
  {
   "cell_type": "code",
   "execution_count": 5,
   "id": "3f2c6f83-161a-4fd7-9e69-642f7db78b3c",
   "metadata": {},
   "outputs": [],
   "source": [
    "num_obs = num_obs[num_obs <= 10000]"
   ]
  },
  {
   "cell_type": "code",
   "execution_count": 6,
   "id": "eb4e1d49-7c59-4f76-bae8-7bb2e216b23a",
   "metadata": {},
   "outputs": [
    {
     "name": "stdout",
     "output_type": "stream",
     "text": [
      "10              0.295 ms\n",
      "20              0.370 ms\n",
      "25              0.410 ms\n",
      "40              0.544 ms\n",
      "50              0.616 ms\n",
      "75              0.846 ms\n",
      "80              0.870 ms\n",
      "100             1.059 ms\n",
      "200             2.053 ms\n",
      "250             2.707 ms\n",
      "400             4.529 ms\n",
      "500             6.020 ms\n",
      "750            11.020 ms\n",
      "800            12.633 ms\n",
      "1000           15.024 ms\n",
      "2000           49.005 ms\n",
      "2500           67.650 ms\n",
      "4000          190.672 ms\n",
      "5000          243.779 ms\n",
      "7500          503.761 ms\n",
      "8000          568.948 ms\n",
      "10000        1003.789 ms\n"
     ]
    }
   ],
   "source": [
    "times = []\n",
    "\n",
    "for size in num_obs:\n",
    "    arr = np.arange(1, size+1, dtype=np.float)\n",
    "    arr += np.random.rand(size)\n",
    "    \n",
    "    setup_code = \"from __main__ import arr; import pymannkendall as mkt\"\n",
    "\n",
    "    test_code = \"mkt.original_test(arr)\"\n",
    "\n",
    "    num_exe = 100\n",
    "    num_repeat = 5\n",
    "\n",
    "    time = timeit.repeat(test_code, setup=setup_code, number=num_exe, repeat=num_repeat)\n",
    "    time_per_execution = np.mean(np.array(time)/num_exe)\n",
    "\n",
    "    times.append(time_per_execution)\n",
    "    \n",
    "    print(f\"{size:<10d} {(time_per_execution*1000):>10.3f} ms\")"
   ]
  },
  {
   "cell_type": "code",
   "execution_count": 9,
   "id": "d59e3b32-4a14-4c63-b5df-67f2ac29cde9",
   "metadata": {},
   "outputs": [
    {
     "data": {
      "text/html": [
       "<div>\n",
       "<style scoped>\n",
       "    .dataframe tbody tr th:only-of-type {\n",
       "        vertical-align: middle;\n",
       "    }\n",
       "\n",
       "    .dataframe tbody tr th {\n",
       "        vertical-align: top;\n",
       "    }\n",
       "\n",
       "    .dataframe thead th {\n",
       "        text-align: right;\n",
       "    }\n",
       "</style>\n",
       "<table border=\"1\" class=\"dataframe\">\n",
       "  <thead>\n",
       "    <tr style=\"text-align: right;\">\n",
       "      <th></th>\n",
       "      <th>n</th>\n",
       "      <th>time_ms</th>\n",
       "    </tr>\n",
       "  </thead>\n",
       "  <tbody>\n",
       "    <tr>\n",
       "      <th>0</th>\n",
       "      <td>10</td>\n",
       "      <td>0.2947</td>\n",
       "    </tr>\n",
       "    <tr>\n",
       "      <th>1</th>\n",
       "      <td>20</td>\n",
       "      <td>0.3702</td>\n",
       "    </tr>\n",
       "    <tr>\n",
       "      <th>2</th>\n",
       "      <td>25</td>\n",
       "      <td>0.4105</td>\n",
       "    </tr>\n",
       "    <tr>\n",
       "      <th>3</th>\n",
       "      <td>40</td>\n",
       "      <td>0.5442</td>\n",
       "    </tr>\n",
       "    <tr>\n",
       "      <th>4</th>\n",
       "      <td>50</td>\n",
       "      <td>0.6162</td>\n",
       "    </tr>\n",
       "    <tr>\n",
       "      <th>5</th>\n",
       "      <td>75</td>\n",
       "      <td>0.8457</td>\n",
       "    </tr>\n",
       "    <tr>\n",
       "      <th>6</th>\n",
       "      <td>80</td>\n",
       "      <td>0.8702</td>\n",
       "    </tr>\n",
       "    <tr>\n",
       "      <th>7</th>\n",
       "      <td>100</td>\n",
       "      <td>1.0589</td>\n",
       "    </tr>\n",
       "    <tr>\n",
       "      <th>8</th>\n",
       "      <td>200</td>\n",
       "      <td>2.0528</td>\n",
       "    </tr>\n",
       "    <tr>\n",
       "      <th>9</th>\n",
       "      <td>250</td>\n",
       "      <td>2.7071</td>\n",
       "    </tr>\n",
       "    <tr>\n",
       "      <th>10</th>\n",
       "      <td>400</td>\n",
       "      <td>4.5293</td>\n",
       "    </tr>\n",
       "    <tr>\n",
       "      <th>11</th>\n",
       "      <td>500</td>\n",
       "      <td>6.0197</td>\n",
       "    </tr>\n",
       "    <tr>\n",
       "      <th>12</th>\n",
       "      <td>750</td>\n",
       "      <td>11.0204</td>\n",
       "    </tr>\n",
       "    <tr>\n",
       "      <th>13</th>\n",
       "      <td>800</td>\n",
       "      <td>12.6328</td>\n",
       "    </tr>\n",
       "    <tr>\n",
       "      <th>14</th>\n",
       "      <td>1000</td>\n",
       "      <td>15.0242</td>\n",
       "    </tr>\n",
       "    <tr>\n",
       "      <th>15</th>\n",
       "      <td>2000</td>\n",
       "      <td>49.0054</td>\n",
       "    </tr>\n",
       "    <tr>\n",
       "      <th>16</th>\n",
       "      <td>2500</td>\n",
       "      <td>67.6499</td>\n",
       "    </tr>\n",
       "    <tr>\n",
       "      <th>17</th>\n",
       "      <td>4000</td>\n",
       "      <td>190.6720</td>\n",
       "    </tr>\n",
       "    <tr>\n",
       "      <th>18</th>\n",
       "      <td>5000</td>\n",
       "      <td>243.7793</td>\n",
       "    </tr>\n",
       "    <tr>\n",
       "      <th>19</th>\n",
       "      <td>7500</td>\n",
       "      <td>503.7615</td>\n",
       "    </tr>\n",
       "    <tr>\n",
       "      <th>20</th>\n",
       "      <td>8000</td>\n",
       "      <td>568.9482</td>\n",
       "    </tr>\n",
       "    <tr>\n",
       "      <th>21</th>\n",
       "      <td>10000</td>\n",
       "      <td>1003.7886</td>\n",
       "    </tr>\n",
       "  </tbody>\n",
       "</table>\n",
       "</div>"
      ],
      "text/plain": [
       "        n    time_ms\n",
       "0      10     0.2947\n",
       "1      20     0.3702\n",
       "2      25     0.4105\n",
       "3      40     0.5442\n",
       "4      50     0.6162\n",
       "5      75     0.8457\n",
       "6      80     0.8702\n",
       "7     100     1.0589\n",
       "8     200     2.0528\n",
       "9     250     2.7071\n",
       "10    400     4.5293\n",
       "11    500     6.0197\n",
       "12    750    11.0204\n",
       "13    800    12.6328\n",
       "14   1000    15.0242\n",
       "15   2000    49.0054\n",
       "16   2500    67.6499\n",
       "17   4000   190.6720\n",
       "18   5000   243.7793\n",
       "19   7500   503.7615\n",
       "20   8000   568.9482\n",
       "21  10000  1003.7886"
      ]
     },
     "execution_count": 9,
     "metadata": {},
     "output_type": "execute_result"
    }
   ],
   "source": [
    "df = pd.DataFrame({'n': num_obs, 'time_ms': np.round(np.array(times)*1000, 4)})\n",
    "\n",
    "df"
   ]
  },
  {
   "cell_type": "code",
   "execution_count": 10,
   "id": "6af34c8e-cbfe-4d13-bcad-863b89e6722a",
   "metadata": {},
   "outputs": [],
   "source": [
    "df.to_csv(\"./MKT_time_vs_n.csv\", index=False)"
   ]
  },
  {
   "cell_type": "code",
   "execution_count": null,
   "id": "9e134398-a300-4121-a9d3-20b2dc1c590b",
   "metadata": {},
   "outputs": [],
   "source": []
  }
 ],
 "metadata": {
  "kernelspec": {
   "display_name": "Python 3.9.7 64-bit ('base': conda)",
   "language": "python",
   "name": "python397jvsc74a57bd0c6e4e9f98eb68ad3b7c296f83d20e6de614cb42e90992a65aa266555a3137d0d"
  },
  "language_info": {
   "codemirror_mode": {
    "name": "ipython",
    "version": 3
   },
   "file_extension": ".py",
   "mimetype": "text/x-python",
   "name": "python",
   "nbconvert_exporter": "python",
   "pygments_lexer": "ipython3",
   "version": "3.9.7"
  }
 },
 "nbformat": 4,
 "nbformat_minor": 5
}
